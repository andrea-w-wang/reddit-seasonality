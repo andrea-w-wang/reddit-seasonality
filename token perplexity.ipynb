{
 "cells": [
  {
   "cell_type": "code",
   "execution_count": 1,
   "id": "59d0418d",
   "metadata": {},
   "outputs": [
    {
     "name": "stderr",
     "output_type": "stream",
     "text": [
      "/home/aww66/.conda/envs/huggingface/lib/python3.9/site-packages/tqdm/auto.py:22: TqdmWarning: IProgress not found. Please update jupyter and ipywidgets. See https://ipywidgets.readthedocs.io/en/stable/user_install.html\n",
      "  from .autonotebook import tqdm as notebook_tqdm\n"
     ]
    }
   ],
   "source": [
    "import argparse\n",
    "import pickle as pk\n",
    "from collections import defaultdict\n",
    "import torch\n",
    "# For machine learning tools and evaluation\n",
    "from sklearn.metrics import accuracy_score\n",
    "# Transformer library\n",
    "from transformers import AutoTokenizer, AutoModelForCausalLM\n",
    "from transformers import Trainer, TrainingArguments\n",
    "import evaluate\n",
    "from datasets import load_dataset, Dataset\n",
    "\n",
    "data_dir = \"./data/\"\n",
    "device_name = \"cuda\" if torch.cuda.is_available() else \"cpu\""
   ]
  },
  {
   "cell_type": "code",
   "execution_count": 2,
   "id": "1f7a1352",
   "metadata": {},
   "outputs": [],
   "source": [
    "subreddit = \"Judaism\"\n",
    "usecols=['year-month', 'timestamp', 'text', 'speaker']\n",
    "comments_df = pk.load(open(data_dir + f\"{subreddit}-comments.pk\", \"rb\"))\n",
    "comments_df = comments_df[usecols]"
   ]
  },
  {
   "cell_type": "code",
   "execution_count": 4,
   "id": "5aaeec7a",
   "metadata": {},
   "outputs": [],
   "source": [
    "model_month = \"2016-07\"\n",
    "checkpoint_path = f\"./models/distilgpt2_{subreddit}_{model_month}/best\"\n",
    "model = AutoModelForCausalLM.from_pretrained(checkpoint_path).to(device_name)\n",
    "tokenizer = AutoTokenizer.from_pretrained(checkpoint_path)"
   ]
  },
  {
   "cell_type": "code",
   "execution_count": 5,
   "id": "f8763ca4",
   "metadata": {},
   "outputs": [
    {
     "name": "stderr",
     "output_type": "stream",
     "text": [
      "Token indices sequence length is longer than the specified maximum sequence length for this model (1008305 > 1024). Running this sequence through the model will result in indexing errors\n"
     ]
    }
   ],
   "source": [
    "predict_month = \"2017-01\"\n",
    "input_texts = [t for t in comments_df[comments_df['year-month'] == predict_month]['text'] if t]\n",
    "encodings = tokenizer.encode(\"\\n\\n\".join(input_texts), return_tensors=\"pt\")"
   ]
  },
  {
   "cell_type": "code",
   "execution_count": 8,
   "id": "a5eec9db",
   "metadata": {},
   "outputs": [
    {
     "data": {
      "text/plain": [
       "torch.Size([1, 1008305])"
      ]
     },
     "execution_count": 8,
     "metadata": {},
     "output_type": "execute_result"
    }
   ],
   "source": [
    "encodings.shape"
   ]
  },
  {
   "cell_type": "code",
   "execution_count": 37,
   "id": "f4361262",
   "metadata": {},
   "outputs": [],
   "source": [
    "import calc_token_contribution"
   ]
  },
  {
   "cell_type": "code",
   "execution_count": 62,
   "id": "999f9e31",
   "metadata": {},
   "outputs": [
    {
     "data": {
      "text/plain": [
       "<module 'calc_token_contribution' from '/share/luxlab/andrea/religion-subreddits/calc_token_contribution.py'>"
      ]
     },
     "execution_count": 62,
     "metadata": {},
     "output_type": "execute_result"
    }
   ],
   "source": [
    "import importlib\n",
    "importlib.reload(calc_token_contribution)"
   ]
  },
  {
   "cell_type": "code",
   "execution_count": null,
   "id": "2331bf8d",
   "metadata": {},
   "outputs": [],
   "source": [
    "max_length = 512\n",
    "stride = 1\n",
    "seq_len = encodings.size(1)\n",
    "\n",
    "nlls = defaultdict(list)\n",
    "prev_end_loc = 0\n",
    "\n",
    "for begin_loc in range(0, seq_len, stride):\n",
    "    print(\"begin_loc: \", begin_loc)\n",
    "    end_loc = min(begin_loc + max_length, seq_len)\n",
    "    print(\"end_loc: \", end_loc)\n",
    "    trg_len = end_loc - prev_end_loc\n",
    "    print(trg_len)\n",
    "    input_ids = encodings[:, begin_loc:end_loc].to(device_name)\n",
    "    target_ids = input_ids.clone()\n",
    "    target_ids[:, :-trg_len] = -100\n",
    "    target_token = target_ids[:, -stride]\n",
    "    with torch.no_grad():\n",
    "        outputs = model(input_ids, labels=target_ids)\n",
    "        token_nll = outputs.loss * trg_len\n",
    "        \n",
    "        target_word = tokenizer.decode(target_token)\n",
    "        nlls[target_word].append(token_nll.cpu().item())\n",
    "        \n",
    "    prev_end_loc = end_loc\n",
    "    if end_loc == seq_len:\n",
    "        break\n",
    "        "
   ]
  },
  {
   "cell_type": "code",
   "execution_count": 29,
   "id": "3d944d23",
   "metadata": {
    "scrolled": false
   },
   "outputs": [
    {
     "name": "stdout",
     "output_type": "stream",
     "text": [
      ",\n",
      "inf\n",
      " after\n",
      "2677.2778\n",
      " my\n",
      "6387.746\n",
      " roommate\n",
      "675372.3\n",
      " came\n",
      "981.5949\n",
      " home\n",
      "12283.591\n",
      " :-)\n",
      "13612.111\n",
      " :\n",
      "12652.543\n",
      " https\n",
      "1632.5735\n",
      "://\n",
      "1.000114\n",
      "i\n",
      "2282.7717\n",
      ".\n",
      "63.961105\n",
      "imgur\n",
      "107.21448\n",
      "com\n",
      "35.206013\n",
      "/\n",
      "767.95355\n",
      "Due\n",
      "56668544.0\n",
      "uy\n",
      "23994.855\n",
      "gu\n",
      "10058.086\n",
      "jpg\n",
      "260.2855\n",
      "\n",
      "\n",
      "46.925888\n",
      "Tu\n",
      "139882.14\n",
      " ded\n",
      "2828744.0\n",
      "ic\n",
      "1188.3696\n",
      "aci\n",
      "36138.34\n",
      "ón\n",
      "1.0501997\n",
      " es\n",
      "78149.99\n",
      " real\n",
      "3874.089\n",
      "ment\n",
      "324.4796\n",
      "e\n",
      "12871.589\n",
      " admirable\n",
      "98058370.0\n",
      "Des\n",
      "8996.796\n",
      "af\n",
      "3523.3965\n",
      "ortun\n",
      "13955.19\n",
      "ad\n",
      "266449.25\n",
      "ament\n",
      "10577.184\n",
      " la\n",
      "7698.388\n",
      " com\n",
      "21651.275\n",
      "un\n",
      "12717.073\n",
      "idad\n",
      "1.7455468\n",
      " or\n",
      "668.5202\n",
      "t\n",
      "502226.75\n",
      "odox\n",
      "29027.328\n",
      "a\n",
      "947.4002\n",
      " en\n",
      "39403.74\n",
      " Pan\n",
      "310433.47\n",
      "am\n",
      "14040.1875\n",
      "á\n",
      "195376.05\n",
      " no\n",
      "510.27524\n",
      " m\n",
      "3818.892\n",
      " \"\n",
      "414.83902\n",
      "fan\n",
      "636506.5\n",
      "\"\n",
      "299.68466\n",
      " de\n",
      "64793.91\n",
      " los\n",
      "4.3067017\n",
      " convers\n",
      "9238.641\n",
      "os\n",
      "2498.2039\n",
      " No\n",
      "9446.969\n",
      " con\n",
      "10489.393\n",
      "oz\n",
      "26433.963\n",
      "co\n",
      "728.42664\n",
      " n\n",
      "5722.8228\n",
      "ie\n",
      "11234.358\n",
      " que\n",
      "916563.94\n",
      " se\n",
      "11798.665\n",
      " h\n",
      "14394.142\n",
      "aya\n",
      "7188.74\n",
      " convert\n",
      "4686.5693\n",
      "ido\n",
      "684.82513\n",
      " Ad\n",
      "25356.38\n",
      "em\n",
      "4698.772\n",
      "ás\n",
      "166767.98\n",
      " las\n",
      "143.08153\n",
      " sin\n",
      "1150.7112\n",
      "agog\n",
      "480.4592\n",
      "as\n",
      "1818.1213\n",
      " nun\n",
      "12625.98\n",
      "ca\n",
      "77962.8\n",
      "jar\n",
      "1486503.0\n",
      "í\n",
      "89704.69\n",
      "an\n",
      "1272.9088\n",
      " ent\n",
      "65668.92\n",
      "rar\n",
      "129968.22\n",
      " person\n",
      "3337.9377\n",
      " pro\n",
      "7672.507\n",
      "ces\n",
      "16036.487\n",
      "o\n",
      "2815.1047\n",
      "...\n",
      "3807.4011\n",
      "Lo\n",
      "4512423.5\n",
      " me\n",
      "1350.5175\n",
      "j\n",
      "237643.31\n",
      "or\n",
      "1161.3945\n",
      " p\n",
      "7804.482\n",
      "ued\n",
      "246.50125\n",
      "es\n",
      "4333.9546\n",
      "acer\n",
      "258.76877\n",
      " ir\n",
      "37517.797\n",
      " a\n",
      "203.00772\n",
      "ag\n",
      "53754.465\n",
      "oga\n",
      "11899790.0\n",
      " reform\n",
      "6564.8447\n",
      "ista\n",
      "3005.21\n"
     ]
    }
   ],
   "source": [
    "\n",
    "for key, value in nlls.items():\n",
    "    print(key)\n",
    "    ppl = torch.exp(torch.stack(value)).mean()\n",
    "    print(ppl.cpu().numpy())\n"
   ]
  }
 ],
 "metadata": {
  "kernelspec": {
   "display_name": "Python 3 (ipykernel)",
   "language": "python",
   "name": "python3"
  },
  "language_info": {
   "codemirror_mode": {
    "name": "ipython",
    "version": 3
   },
   "file_extension": ".py",
   "mimetype": "text/x-python",
   "name": "python",
   "nbconvert_exporter": "python",
   "pygments_lexer": "ipython3",
   "version": "3.9.15"
  }
 },
 "nbformat": 4,
 "nbformat_minor": 5
}
