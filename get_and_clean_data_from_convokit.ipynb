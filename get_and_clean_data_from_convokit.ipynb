{
 "cells": [
  {
   "cell_type": "code",
   "execution_count": 1,
   "id": "185beb43",
   "metadata": {},
   "outputs": [
    {
     "name": "stderr",
     "output_type": "stream",
     "text": [
      "/usr/local/lib/python3.10/site-packages/tqdm/auto.py:22: TqdmWarning: IProgress not found. Please update jupyter and ipywidgets. See https://ipywidgets.readthedocs.io/en/stable/user_install.html\n",
      "  from .autonotebook import tqdm as notebook_tqdm\n"
     ]
    }
   ],
   "source": [
    "from datetime import datetime\n",
    "import pickle as pk\n",
    "from convokit import Corpus, download\n",
    "from preprocess import preprocess\n",
    "data_dir = \"./data/\""
   ]
  },
  {
   "cell_type": "code",
   "execution_count": null,
   "id": "7f65f9d7",
   "metadata": {},
   "outputs": [],
   "source": []
  },
  {
   "cell_type": "code",
   "execution_count": null,
   "id": "6716185b",
   "metadata": {},
   "outputs": [
    {
     "name": "stdout",
     "output_type": "stream",
     "text": [
      "Downloading subreddit-snowboarding to /Users/wyw/.convokit/downloads/subreddit-snowboarding\n",
      "Downloading subreddit-snowboarding from http://zissou.infosci.cornell.edu/convokit/datasets/subreddit-corpus/corpus-zipped/sneakermarketuk~-~soccer/snowboarding.corpus.zip (89.6MB)... Done\n"
     ]
    }
   ],
   "source": [
    "subreddit = 'snowboarding'\n",
    "corpus = Corpus(filename=download(f'subreddit-{subreddit}'))\n"
   ]
  },
  {
   "cell_type": "code",
   "execution_count": null,
   "id": "09ccfadd",
   "metadata": {},
   "outputs": [],
   "source": [
    "df = corpus.get_utterances_dataframe(selector = lambda utt: len(utt.text.split()) > 5)\n",
    "df = df[df['speaker'] != \"[deleted]\"]\n",
    "df['datetime'] = df['timestamp'].apply(lambda t: datetime.fromtimestamp(t))\n",
    "df['year-month'] = df['datetime'].apply(lambda d: str(d.year) + \"-\" + str(d.month).zfill(2))"
   ]
  },
  {
   "cell_type": "code",
   "execution_count": null,
   "id": "8a7139db",
   "metadata": {},
   "outputs": [],
   "source": [
    "comments = df[df['reply_to'].notnull()].copy()"
   ]
  },
  {
   "cell_type": "code",
   "execution_count": null,
   "id": "a0862bb8",
   "metadata": {},
   "outputs": [],
   "source": [
    "comments['year-month'].unique()"
   ]
  },
  {
   "cell_type": "code",
   "execution_count": null,
   "id": "4fc625cd",
   "metadata": {},
   "outputs": [],
   "source": [
    "comments.groupby(['year-month']).size().to_dict()"
   ]
  },
  {
   "cell_type": "code",
   "execution_count": null,
   "id": "f138444c",
   "metadata": {},
   "outputs": [],
   "source": [
    "comments.head()"
   ]
  },
  {
   "cell_type": "code",
   "execution_count": null,
   "id": "fc609edc",
   "metadata": {},
   "outputs": [],
   "source": [
    "usecols = ['year-month', 'timestamp', 'text', 'speaker']"
   ]
  },
  {
   "cell_type": "code",
   "execution_count": null,
   "id": "0c1f0e6b",
   "metadata": {},
   "outputs": [],
   "source": [
    "comments = comments[usecols].copy()"
   ]
  },
  {
   "cell_type": "code",
   "execution_count": null,
   "id": "1335e94c",
   "metadata": {},
   "outputs": [],
   "source": [
    "comments['original_text'] = comments['text']\n",
    "comments['text'] = comments['original_text'].apply(preprocess)"
   ]
  },
  {
   "cell_type": "code",
   "execution_count": null,
   "id": "ad675b04",
   "metadata": {},
   "outputs": [],
   "source": [
    "comments.head()"
   ]
  },
  {
   "cell_type": "code",
   "execution_count": 41,
   "id": "7419244b",
   "metadata": {},
   "outputs": [],
   "source": [
    "pk.dump(comments[usecols], open(data_dir + f\"{subreddit}-comments.pk\", \"wb\"))"
   ]
  },
  {
   "cell_type": "code",
   "execution_count": 18,
   "id": "69f65f0c",
   "metadata": {},
   "outputs": [],
   "source": [
    "subreddit = \"movies\"\n",
    "df = pk.load(open(data_dir + f\"{subreddit}-comments.pk\", \"rb\"))"
   ]
  },
  {
   "cell_type": "code",
   "execution_count": 19,
   "id": "dd278a66",
   "metadata": {},
   "outputs": [
    {
     "data": {
      "text/plain": [
       "(17757184, 3)"
      ]
     },
     "execution_count": 19,
     "metadata": {},
     "output_type": "execute_result"
    }
   ],
   "source": [
    "df.shape"
   ]
  },
  {
   "cell_type": "code",
   "execution_count": 16,
   "id": "e2874acb",
   "metadata": {},
   "outputs": [
    {
     "data": {
      "text/html": [
       "<div>\n",
       "<style scoped>\n",
       "    .dataframe tbody tr th:only-of-type {\n",
       "        vertical-align: middle;\n",
       "    }\n",
       "\n",
       "    .dataframe tbody tr th {\n",
       "        vertical-align: top;\n",
       "    }\n",
       "\n",
       "    .dataframe thead th {\n",
       "        text-align: right;\n",
       "    }\n",
       "</style>\n",
       "<table border=\"1\" class=\"dataframe\">\n",
       "  <thead>\n",
       "    <tr style=\"text-align: right;\">\n",
       "      <th></th>\n",
       "      <th>year-month</th>\n",
       "      <th>timestamp</th>\n",
       "      <th>text</th>\n",
       "      <th>speaker</th>\n",
       "    </tr>\n",
       "    <tr>\n",
       "      <th>id</th>\n",
       "      <th></th>\n",
       "      <th></th>\n",
       "      <th></th>\n",
       "      <th></th>\n",
       "    </tr>\n",
       "  </thead>\n",
       "  <tbody>\n",
       "    <tr>\n",
       "      <th>c04malt</th>\n",
       "      <td>2008-07</td>\n",
       "      <td>1215513011</td>\n",
       "      <td>way to be a sterotypical jew</td>\n",
       "      <td>moogle516</td>\n",
       "    </tr>\n",
       "    <tr>\n",
       "      <th>c054y64</th>\n",
       "      <td>2008-08</td>\n",
       "      <td>1219432706</td>\n",
       "      <td>if you are the sort of jewish person who is ve...</td>\n",
       "      <td>marcstober</td>\n",
       "    </tr>\n",
       "    <tr>\n",
       "      <th>c063kbd</th>\n",
       "      <td>2008-10</td>\n",
       "      <td>1225377639</td>\n",
       "      <td>i would spell shlemile as shlemiel but what do...</td>\n",
       "      <td>Caper8888</td>\n",
       "    </tr>\n",
       "    <tr>\n",
       "      <th>c070qdr</th>\n",
       "      <td>2009-01</td>\n",
       "      <td>1231890143</td>\n",
       "      <td>rabbi so many of you have said to me this week...</td>\n",
       "      <td>egbert</td>\n",
       "    </tr>\n",
       "    <tr>\n",
       "      <th>c08gt10</th>\n",
       "      <td>2009-03</td>\n",
       "      <td>1238045719</td>\n",
       "      <td>i swear i saw shemale at first glance</td>\n",
       "      <td>sputterpop</td>\n",
       "    </tr>\n",
       "  </tbody>\n",
       "</table>\n",
       "</div>"
      ],
      "text/plain": [
       "        year-month   timestamp  \\\n",
       "id                               \n",
       "c04malt    2008-07  1215513011   \n",
       "c054y64    2008-08  1219432706   \n",
       "c063kbd    2008-10  1225377639   \n",
       "c070qdr    2009-01  1231890143   \n",
       "c08gt10    2009-03  1238045719   \n",
       "\n",
       "                                                      text     speaker  \n",
       "id                                                                      \n",
       "c04malt                       way to be a sterotypical jew   moogle516  \n",
       "c054y64  if you are the sort of jewish person who is ve...  marcstober  \n",
       "c063kbd  i would spell shlemile as shlemiel but what do...   Caper8888  \n",
       "c070qdr  rabbi so many of you have said to me this week...      egbert  \n",
       "c08gt10              i swear i saw shemale at first glance  sputterpop  "
      ]
     },
     "execution_count": 16,
     "metadata": {},
     "output_type": "execute_result"
    }
   ],
   "source": [
    "df.head()"
   ]
  },
  {
   "cell_type": "code",
   "execution_count": 17,
   "id": "dd685034",
   "metadata": {},
   "outputs": [
    {
     "data": {
      "text/plain": [
       "(481116, 5)"
      ]
     },
     "execution_count": 17,
     "metadata": {},
     "output_type": "execute_result"
    }
   ],
   "source": [
    "df['year'] = df['year-month'].apply(lambda x: int(x.split(\"-\")[0]))\n",
    "df = df[df['year'] >= 2014]\n",
    "df.shape"
   ]
  },
  {
   "cell_type": "markdown",
   "id": "13516856",
   "metadata": {},
   "source": [
    "## large files"
   ]
  },
  {
   "cell_type": "code",
   "execution_count": 25,
   "id": "b47feb53",
   "metadata": {},
   "outputs": [],
   "source": [
    "import jsonlines\n",
    "import pandas as pd\n",
    "from tqdm import tqdm"
   ]
  },
  {
   "cell_type": "code",
   "execution_count": 26,
   "id": "abea3f6e",
   "metadata": {},
   "outputs": [],
   "source": [
    "subreddit = 'snowboarding'"
   ]
  },
  {
   "cell_type": "code",
   "execution_count": 28,
   "id": "c72b3e5e",
   "metadata": {},
   "outputs": [
    {
     "name": "stderr",
     "output_type": "stream",
     "text": [
      "712718it [00:25, 27664.73it/s] \n"
     ]
    }
   ],
   "source": [
    "comments = list()\n",
    "with jsonlines.open(f'/Users/wyw/.convokit/downloads/subreddit-{subreddit}/utterances.jsonl') as reader:\n",
    "    for obj in tqdm(reader):\n",
    "        if obj['timestamp'] > 1388552400 and obj['reply_to']: # only collect comments after 2014/1 \n",
    "            if len(obj['text'].split()) > 5:\n",
    "                obj['text'] = preprocess(obj['text'])\n",
    "                if len(obj['text']) > 5: \n",
    "                    dt = datetime.fromtimestamp(obj['timestamp'])\n",
    "                    obj['year'] = dt.year\n",
    "                    obj['month'] = dt.month\n",
    "                    obj['year-month'] = str(dt.year) + \"-\" + str(dt.month).zfill(2)\n",
    "                    comments.append({k: obj[k] for k in ['id', 'year', 'month', 'year-month', 'text']})"
   ]
  },
  {
   "cell_type": "code",
   "execution_count": 32,
   "id": "b83dc60b",
   "metadata": {},
   "outputs": [],
   "source": [
    "import numpy as np\n",
    "sample_comments = np.random.choice(comments, size=min(len(comments), 500000), replace=False)"
   ]
  },
  {
   "cell_type": "code",
   "execution_count": 33,
   "id": "86d889c2",
   "metadata": {},
   "outputs": [
    {
     "data": {
      "text/plain": [
       "array([{'id': 'dlhude7', 'year': 2017, 'month': 8, 'year-month': '2017-08', 'text': 'i lost it at old school shred it'},\n",
       "       {'id': 'dfh6pq8', 'year': 2017, 'month': 3, 'year-month': '2017-03', 'text': 'maybe or maybe not  you should have seen those pipes in person  i was at the north american open in 86 at sunshine with a similar pipe  no transition the same lumpy no vertical portion  compared to a modern perfectly groomed park they were way different'},\n",
       "       {'id': 'du2atry', 'year': 2018, 'month': 2, 'year-month': '2018-02', 'text': 'no way should mark and max been 2 and 3 both their top laps were more technical that reds '},\n",
       "       ...,\n",
       "       {'id': 'cjvyekd', 'year': 2014, 'month': 8, 'year-month': '2014-08', 'text': 'no one is too old for this no one'},\n",
       "       {'id': 'dxkuer5', 'year': 2018, 'month': 4, 'year-month': '2018-04', 'text': 'cork in triple back half out 4 flips 1 and a half spins '},\n",
       "       {'id': 'cp4pphq', 'year': 2015, 'month': 3, 'year-month': '2015-03', 'text': 'so sad the season is almost over  you gonna be around this weekend im trying to get out again before its too late '}],\n",
       "      dtype=object)"
      ]
     },
     "execution_count": 33,
     "metadata": {},
     "output_type": "execute_result"
    }
   ],
   "source": [
    "sample_comments"
   ]
  },
  {
   "cell_type": "code",
   "execution_count": 14,
   "id": "b776871e",
   "metadata": {},
   "outputs": [],
   "source": [
    "comments = pd.DataFrame.from_dict(comments)\n"
   ]
  },
  {
   "cell_type": "code",
   "execution_count": 15,
   "id": "aba6ed0b",
   "metadata": {},
   "outputs": [
    {
     "data": {
      "text/html": [
       "<div>\n",
       "<style scoped>\n",
       "    .dataframe tbody tr th:only-of-type {\n",
       "        vertical-align: middle;\n",
       "    }\n",
       "\n",
       "    .dataframe tbody tr th {\n",
       "        vertical-align: top;\n",
       "    }\n",
       "\n",
       "    .dataframe thead th {\n",
       "        text-align: right;\n",
       "    }\n",
       "</style>\n",
       "<table border=\"1\" class=\"dataframe\">\n",
       "  <thead>\n",
       "    <tr style=\"text-align: right;\">\n",
       "      <th></th>\n",
       "      <th>year-month</th>\n",
       "      <th>text</th>\n",
       "      <th>speaker</th>\n",
       "    </tr>\n",
       "    <tr>\n",
       "      <th>id</th>\n",
       "      <th></th>\n",
       "      <th></th>\n",
       "      <th></th>\n",
       "    </tr>\n",
       "  </thead>\n",
       "  <tbody>\n",
       "    <tr>\n",
       "      <th>ceeft1x</th>\n",
       "      <td>2013-12</td>\n",
       "      <td>maybe not in age of ultron but theyll probably...</td>\n",
       "      <td>_Valisk</td>\n",
       "    </tr>\n",
       "    <tr>\n",
       "      <th>ceefta0</th>\n",
       "      <td>2013-12</td>\n",
       "      <td>nobody cared about iron man before his movie p...</td>\n",
       "      <td>Nova178</td>\n",
       "    </tr>\n",
       "    <tr>\n",
       "      <th>ceefted</th>\n",
       "      <td>2013-12</td>\n",
       "      <td>i think its a dvd release since they get the d...</td>\n",
       "      <td>mardfet</td>\n",
       "    </tr>\n",
       "    <tr>\n",
       "      <th>ceeftg7</th>\n",
       "      <td>2013-12</td>\n",
       "      <td>people really oversell dc animated series spoi...</td>\n",
       "      <td>symon_says</td>\n",
       "    </tr>\n",
       "    <tr>\n",
       "      <th>ceeftn0</th>\n",
       "      <td>2013-12</td>\n",
       "      <td>wasnt she covered in blue at some point too</td>\n",
       "      <td>AtrumTalio</td>\n",
       "    </tr>\n",
       "  </tbody>\n",
       "</table>\n",
       "</div>"
      ],
      "text/plain": [
       "        year-month                                               text  \\\n",
       "id                                                                      \n",
       "ceeft1x    2013-12  maybe not in age of ultron but theyll probably...   \n",
       "ceefta0    2013-12  nobody cared about iron man before his movie p...   \n",
       "ceefted    2013-12  i think its a dvd release since they get the d...   \n",
       "ceeftg7    2013-12  people really oversell dc animated series spoi...   \n",
       "ceeftn0    2013-12        wasnt she covered in blue at some point too   \n",
       "\n",
       "            speaker  \n",
       "id                   \n",
       "ceeft1x     _Valisk  \n",
       "ceefta0     Nova178  \n",
       "ceefted     mardfet  \n",
       "ceeftg7  symon_says  \n",
       "ceeftn0  AtrumTalio  "
      ]
     },
     "execution_count": 15,
     "metadata": {},
     "output_type": "execute_result"
    }
   ],
   "source": [
    "comments = comments.set_index(\"id\")\n",
    "comments = comments.rename({\"user\": \"speaker\"}, axis=1)\n",
    "comments = comments.drop(\"reply_to\", axis=1)\n",
    "comments.head()"
   ]
  },
  {
   "cell_type": "code",
   "execution_count": 16,
   "id": "91504c86",
   "metadata": {},
   "outputs": [],
   "source": [
    "pk.dump(comments, open(data_dir + f\"{subreddit}-comments.pk\", \"wb\"))"
   ]
  }
 ],
 "metadata": {
  "kernelspec": {
   "display_name": "Python 3 (ipykernel)",
   "language": "python",
   "name": "python3"
  },
  "language_info": {
   "codemirror_mode": {
    "name": "ipython",
    "version": 3
   },
   "file_extension": ".py",
   "mimetype": "text/x-python",
   "name": "python",
   "nbconvert_exporter": "python",
   "pygments_lexer": "ipython3",
   "version": "3.10.8"
  }
 },
 "nbformat": 4,
 "nbformat_minor": 5
}
