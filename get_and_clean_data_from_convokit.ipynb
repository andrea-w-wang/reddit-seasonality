{
 "cells": [
  {
   "cell_type": "code",
   "execution_count": 1,
   "id": "185beb43",
   "metadata": {},
   "outputs": [
    {
     "name": "stderr",
     "output_type": "stream",
     "text": [
      "/usr/local/lib/python3.10/site-packages/tqdm/auto.py:22: TqdmWarning: IProgress not found. Please update jupyter and ipywidgets. See https://ipywidgets.readthedocs.io/en/stable/user_install.html\n",
      "  from .autonotebook import tqdm as notebook_tqdm\n"
     ]
    }
   ],
   "source": [
    "from datetime import datetime\n",
    "import pickle as pk\n",
    "from convokit import Corpus, download\n",
    "data_dir = \"./data/\""
   ]
  },
  {
   "cell_type": "code",
   "execution_count": null,
   "id": "72579e2b",
   "metadata": {},
   "outputs": [
    {
     "name": "stdout",
     "output_type": "stream",
     "text": [
      "Downloading subreddit-movies to /Users/wyw/.convokit/downloads/subreddit-movies\n",
      "Downloading subreddit-movies from http://zissou.infosci.cornell.edu/convokit/datasets/subreddit-corpus/corpus-zipped/motorcyclesafety~-~movies/movies.corpus.zip (3288.6MB)... Done\n"
     ]
    }
   ],
   "source": [
    "subreddit = 'movies'\n",
    "corpus = Corpus(filename=download(f'subreddit-{subreddit}'))\n"
   ]
  },
  {
   "cell_type": "code",
   "execution_count": null,
   "id": "09ccfadd",
   "metadata": {},
   "outputs": [],
   "source": [
    "df = corpus.get_utterances_dataframe(selector = lambda utt: len(utt.text.split()) > 5)\n",
    "df = df[df['speaker'] != \"[deleted]\"]\n",
    "df['datetime'] = df['timestamp'].apply(lambda t: datetime.fromtimestamp(t))\n",
    "df['year-month'] = df['datetime'].apply(lambda d: str(d.year) + \"-\" + str(d.month).zfill(2))"
   ]
  },
  {
   "cell_type": "code",
   "execution_count": null,
   "id": "8a7139db",
   "metadata": {},
   "outputs": [],
   "source": [
    "comments = df[df['reply_to'].notnull()].copy()"
   ]
  },
  {
   "cell_type": "code",
   "execution_count": null,
   "id": "a0862bb8",
   "metadata": {},
   "outputs": [],
   "source": [
    "comments['year-month'].unique()"
   ]
  },
  {
   "cell_type": "code",
   "execution_count": null,
   "id": "4fc625cd",
   "metadata": {},
   "outputs": [],
   "source": [
    "comments.groupby(['year-month']).size().to_dict()"
   ]
  },
  {
   "cell_type": "code",
   "execution_count": null,
   "id": "32d486a2",
   "metadata": {},
   "outputs": [],
   "source": [
    "pk.dump(comments, open(data_dir + f\"{subreddit}-comments.pk\", \"wb\"))"
   ]
  },
  {
   "cell_type": "code",
   "execution_count": null,
   "id": "d382b9f0",
   "metadata": {},
   "outputs": [],
   "source": []
  }
 ],
 "metadata": {
  "kernelspec": {
   "display_name": "Python 3 (ipykernel)",
   "language": "python",
   "name": "python3"
  },
  "language_info": {
   "codemirror_mode": {
    "name": "ipython",
    "version": 3
   },
   "file_extension": ".py",
   "mimetype": "text/x-python",
   "name": "python",
   "nbconvert_exporter": "python",
   "pygments_lexer": "ipython3",
   "version": "3.10.8"
  }
 },
 "nbformat": 4,
 "nbformat_minor": 5
}
