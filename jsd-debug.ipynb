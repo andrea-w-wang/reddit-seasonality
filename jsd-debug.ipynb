{
 "cells": [
  {
   "cell_type": "code",
   "execution_count": null,
   "id": "ecf0cb20",
   "metadata": {},
   "outputs": [],
   "source": [
    "import jsd\n",
    "import ngrams"
   ]
  },
  {
   "cell_type": "code",
   "execution_count": null,
   "id": "71dd041f",
   "metadata": {},
   "outputs": [],
   "source": [
    "subreddit = 'Christianity'"
   ]
  },
  {
   "cell_type": "code",
   "execution_count": null,
   "id": "3dfddd49",
   "metadata": {},
   "outputs": [],
   "source": [
    "# full\n",
    "full = pk.load(open(f\"./data/{subreddit}-comments.pk\", \"rb\"))\n",
    "\n",
    "full['year'] = full['year-month'].apply(lambda t: int(t.split(\"-\")[0]))\n",
    "full = full[full['year'] >= 2014].copy()\n",
    "full_data = np.array(full.to_dict(orient='records'))"
   ]
  },
  {
   "cell_type": "code",
   "execution_count": null,
   "id": "dcae8a98",
   "metadata": {},
   "outputs": [],
   "source": [
    "ngrams_counter = ngrams.get_ngrams_counter(utts = full_data)\n",
    "months, dist, long = jsd.run(ngrams_counter)\n",
    "\n",
    "fig, axes=plt.subplots(1, 2, figsize=(13, 5))\n",
    "sns.heatmap(pd.DataFrame.pivot(long, index='month_2', columns='month_1', values='jsd'),cmap='PiYG', ax=axes[0])\n",
    "sns.heatmap(pd.DataFrame.pivot(long, index='month_2', columns='month_1', values='jsd_rank'),cmap='PiYG', ax=axes[1])"
   ]
  },
  {
   "cell_type": "code",
   "execution_count": null,
   "id": "edcc268b",
   "metadata": {},
   "outputs": [],
   "source": [
    "# sample\n",
    "\n",
    "sample = pk.load(open(f\"./data/samples/{subreddit}-comments.pk\", \"rb\"))\n",
    "\n",
    "ngrams_counter = ngrams.get_ngrams_counter(utts = sample)\n",
    "months, dist, long = jsd.run(ngrams_counter)\n",
    "\n",
    "fig, axes=plt.subplots(1, 2, figsize=(13, 5))\n",
    "sns.heatmap(pd.DataFrame.pivot(long, index='month_2', columns='month_1', values='jsd'),cmap='PiYG', ax=axes[0])\n",
    "sns.heatmap(pd.DataFrame.pivot(long, index='month_2', columns='month_1', values='jsd_rank'),cmap='PiYG', ax=axes[1])"
   ]
  },
  {
   "cell_type": "code",
   "execution_count": null,
   "id": "3fce8084",
   "metadata": {},
   "outputs": [],
   "source": [
    "# with-replacement subsample\n",
    "sample_idx = np.random.choice(len(metadata), size=50000, replace=True)\n",
    "subsample = sample[sample_idx]\n",
    "ngrams_counter = ngrams.get_ngrams_counter(utts = subsample)\n",
    "months, dist, long = jsd.run(ngrams_counter)\n",
    "\n",
    "fig, axes=plt.subplots(1, 2, figsize=(13, 5))\n",
    "sns.heatmap(pd.DataFrame.pivot(long, index='month_2', columns='month_1', values='jsd'),cmap='PiYG', ax=axes[0])\n",
    "sns.heatmap(pd.DataFrame.pivot(long, index='month_2', columns='month_1', values='jsd_rank'),cmap='PiYG', ax=axes[1])"
   ]
  },
  {
   "cell_type": "code",
   "execution_count": null,
   "id": "23495adc",
   "metadata": {},
   "outputs": [],
   "source": [
    "# without replacement subsample\n",
    "sample_idx = np.random.choice(len(metadata), size=50000, replace=False)\n",
    "subsample = metadata[sample_idx]\n",
    "ngrams_counter = ngrams.get_ngrams_counter(utts = subsample)\n",
    "months, dist, long = jsd.run(ngrams_counter)\n",
    "\n",
    "fig, axes=plt.subplots(1, 2, figsize=(13, 5))\n",
    "sns.heatmap(pd.DataFrame.pivot(long, index='month_2', columns='month_1', values='jsd'),cmap='PiYG', ax=axes[0])\n",
    "sns.heatmap(pd.DataFrame.pivot(long, index='month_2', columns='month_1', values='jsd_rank'),cmap='PiYG', ax=axes[1])\n"
   ]
  }
 ],
 "metadata": {
  "kernelspec": {
   "display_name": "Python 3 (ipykernel)",
   "language": "python",
   "name": "python3"
  },
  "language_info": {
   "codemirror_mode": {
    "name": "ipython",
    "version": 3
   },
   "file_extension": ".py",
   "mimetype": "text/x-python",
   "name": "python",
   "nbconvert_exporter": "python",
   "pygments_lexer": "ipython3",
   "version": "3.10.8"
  }
 },
 "nbformat": 4,
 "nbformat_minor": 5
}
