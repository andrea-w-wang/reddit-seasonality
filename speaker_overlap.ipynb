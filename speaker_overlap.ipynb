{
 "cells": [
  {
   "cell_type": "code",
   "execution_count": 1,
   "metadata": {},
   "outputs": [],
   "source": [
    "from convokit import Corpus, download, HyperConvo\n",
    "import pandas as pd\n",
    "import numpy as np\n",
    "from collections import Counter\n",
    "from scipy import stats\n",
    "import json\n",
    "from datetime import datetime\n",
    "import pickle as pk\n"
   ]
  },
  {
   "cell_type": "code",
   "execution_count": 3,
   "metadata": {},
   "outputs": [],
   "source": [
    "dfs = dict()\n",
    "\n",
    "subreddit = \"Christianity\"\n",
    "corpus = Corpus.reconnect_to_db(f'subreddit-{subreddit}')\n",
    "dfs[subreddit] = df = corpus.get_utterances_dataframe(selector = lambda utt: len(utt.text.split()) > 5)\n",
    "\n",
    "subreddit = \"TrueChristian\"\n",
    "corpus = Corpus.reconnect_to_db(f'subreddit-{subreddit}')\n",
    "dfs[subreddit]  = df = corpus.get_utterances_dataframe(selector = lambda utt: len(utt.text.split()) > 5)"
   ]
  },
  {
   "cell_type": "code",
   "execution_count": 4,
   "metadata": {},
   "outputs": [],
   "source": [
    "speakers = dict()\n",
    "for subreddit in [\"Christianity\", \"TrueChristian\"]:\n",
    "    speakers[subreddit] = dfs[subreddit]['speaker'].unique()"
   ]
  },
  {
   "cell_type": "code",
   "execution_count": 167,
   "metadata": {},
   "outputs": [
    {
     "name": "stdout",
     "output_type": "stream",
     "text": [
      "12068\n"
     ]
    }
   ],
   "source": [
    "common_speakers = set(speakers[\"Christianity\"]).intersection(speakers[\"TrueChristian\"])\n",
    "common_speakers.remove(\"[deleted]\")\n",
    "common_speakers = list(common_speakers)\n",
    "print(len(common_speakers))"
   ]
  },
  {
   "cell_type": "code",
   "execution_count": 16,
   "metadata": {},
   "outputs": [
    {
     "name": "stdout",
     "output_type": "stream",
     "text": [
      "TrueChristian\n",
      "count    12068.000000\n",
      "mean        33.587753\n",
      "std        166.506911\n",
      "min          1.000000\n",
      "25%          1.000000\n",
      "50%          4.000000\n",
      "75%         16.000000\n",
      "max       5730.000000\n",
      "dtype: float64\n",
      "Christianity\n",
      "count    12068.000000\n",
      "mean       224.120815\n",
      "std       1031.910221\n",
      "min          1.000000\n",
      "25%          4.000000\n",
      "50%         17.000000\n",
      "75%         78.000000\n",
      "max      27546.000000\n",
      "dtype: float64\n"
     ]
    }
   ],
   "source": [
    "for subreddit in [\"TrueChristian\", \"Christianity\"]:\n",
    "    df = dfs[subreddit]\n",
    "    print(subreddit)\n",
    "    print(df[df['speaker'].isin(common_speakers)].groupby(['speaker']).size().describe())"
   ]
  },
  {
   "cell_type": "code",
   "execution_count": 18,
   "metadata": {},
   "outputs": [],
   "source": [
    "common_speakers_utt = pd.DataFrame()\n",
    "for subreddit in [\"TrueChristian\", \"Christianity\"]:\n",
    "    df = dfs[subreddit]\n",
    "    common_speakers_utt = pd.concat([common_speakers_utt, df[df['speaker'].isin(common_speakers)]])"
   ]
  },
  {
   "cell_type": "code",
   "execution_count": 20,
   "metadata": {},
   "outputs": [],
   "source": [
    "common_speakers_utt['text_len'] = common_speakers_utt['text'].apply(lambda t: len(t.split()))"
   ]
  },
  {
   "cell_type": "markdown",
   "metadata": {},
   "source": [
    "## some stats"
   ]
  },
  {
   "cell_type": "code",
   "execution_count": 21,
   "metadata": {},
   "outputs": [
    {
     "data": {
      "text/html": [
       "<div>\n",
       "<style scoped>\n",
       "    .dataframe tbody tr th:only-of-type {\n",
       "        vertical-align: middle;\n",
       "    }\n",
       "\n",
       "    .dataframe tbody tr th {\n",
       "        vertical-align: top;\n",
       "    }\n",
       "\n",
       "    .dataframe thead th {\n",
       "        text-align: right;\n",
       "    }\n",
       "</style>\n",
       "<table border=\"1\" class=\"dataframe\">\n",
       "  <thead>\n",
       "    <tr style=\"text-align: right;\">\n",
       "      <th></th>\n",
       "      <th>count</th>\n",
       "      <th>mean</th>\n",
       "      <th>std</th>\n",
       "      <th>min</th>\n",
       "      <th>25%</th>\n",
       "      <th>50%</th>\n",
       "      <th>75%</th>\n",
       "      <th>max</th>\n",
       "    </tr>\n",
       "    <tr>\n",
       "      <th>meta.subreddit</th>\n",
       "      <th></th>\n",
       "      <th></th>\n",
       "      <th></th>\n",
       "      <th></th>\n",
       "      <th></th>\n",
       "      <th></th>\n",
       "      <th></th>\n",
       "      <th></th>\n",
       "    </tr>\n",
       "  </thead>\n",
       "  <tbody>\n",
       "    <tr>\n",
       "      <th>Christianity</th>\n",
       "      <td>2704690.0</td>\n",
       "      <td>70.181515</td>\n",
       "      <td>112.102642</td>\n",
       "      <td>6.0</td>\n",
       "      <td>17.0</td>\n",
       "      <td>36.0</td>\n",
       "      <td>77.0</td>\n",
       "      <td>6846.0</td>\n",
       "    </tr>\n",
       "    <tr>\n",
       "      <th>TrueChristian</th>\n",
       "      <td>405337.0</td>\n",
       "      <td>87.611289</td>\n",
       "      <td>143.714178</td>\n",
       "      <td>6.0</td>\n",
       "      <td>20.0</td>\n",
       "      <td>44.0</td>\n",
       "      <td>95.0</td>\n",
       "      <td>6034.0</td>\n",
       "    </tr>\n",
       "  </tbody>\n",
       "</table>\n",
       "</div>"
      ],
      "text/plain": [
       "                    count       mean         std  min   25%   50%   75%  \\\n",
       "meta.subreddit                                                            \n",
       "Christianity    2704690.0  70.181515  112.102642  6.0  17.0  36.0  77.0   \n",
       "TrueChristian    405337.0  87.611289  143.714178  6.0  20.0  44.0  95.0   \n",
       "\n",
       "                   max  \n",
       "meta.subreddit          \n",
       "Christianity    6846.0  \n",
       "TrueChristian   6034.0  "
      ]
     },
     "execution_count": 21,
     "metadata": {},
     "output_type": "execute_result"
    }
   ],
   "source": [
    "common_speakers_utt.groupby(['meta.subreddit'])['text_len'].describe()"
   ]
  },
  {
   "cell_type": "code",
   "execution_count": 23,
   "metadata": {},
   "outputs": [],
   "source": [
    "for subreddit in [\"TrueChristian\", \"Christianity\"]:\n",
    "    df = dfs[subreddit]\n",
    "    df['text_len'] = df['text'].apply(lambda t: len(t.split()))\n",
    "    df['speaker in both TrueChristian and Christianity'] = df['speaker'].apply(lambda s: s in common_speakers)"
   ]
  },
  {
   "cell_type": "code",
   "execution_count": 26,
   "metadata": {},
   "outputs": [],
   "source": [
    "pd.set_option('display.max_rows', 1000)"
   ]
  },
  {
   "cell_type": "code",
   "execution_count": 30,
   "metadata": {},
   "outputs": [
    {
     "name": "stdout",
     "output_type": "stream",
     "text": [
      "r/Christianity\n"
     ]
    },
    {
     "data": {
      "text/html": [
       "<div>\n",
       "<style scoped>\n",
       "    .dataframe tbody tr th:only-of-type {\n",
       "        vertical-align: middle;\n",
       "    }\n",
       "\n",
       "    .dataframe tbody tr th {\n",
       "        vertical-align: top;\n",
       "    }\n",
       "\n",
       "    .dataframe thead th {\n",
       "        text-align: right;\n",
       "    }\n",
       "</style>\n",
       "<table border=\"1\" class=\"dataframe\">\n",
       "  <thead>\n",
       "    <tr style=\"text-align: right;\">\n",
       "      <th></th>\n",
       "      <th>count</th>\n",
       "      <th>mean</th>\n",
       "      <th>std</th>\n",
       "      <th>min</th>\n",
       "      <th>25%</th>\n",
       "      <th>50%</th>\n",
       "      <th>75%</th>\n",
       "      <th>max</th>\n",
       "    </tr>\n",
       "    <tr>\n",
       "      <th>speaker in both TrueChristian and Christianity</th>\n",
       "      <th></th>\n",
       "      <th></th>\n",
       "      <th></th>\n",
       "      <th></th>\n",
       "      <th></th>\n",
       "      <th></th>\n",
       "      <th></th>\n",
       "      <th></th>\n",
       "    </tr>\n",
       "  </thead>\n",
       "  <tbody>\n",
       "    <tr>\n",
       "      <th>False</th>\n",
       "      <td>3407322.0</td>\n",
       "      <td>71.217512</td>\n",
       "      <td>109.151058</td>\n",
       "      <td>6.0</td>\n",
       "      <td>18.0</td>\n",
       "      <td>37.0</td>\n",
       "      <td>81.0</td>\n",
       "      <td>6891.0</td>\n",
       "    </tr>\n",
       "    <tr>\n",
       "      <th>True</th>\n",
       "      <td>2704690.0</td>\n",
       "      <td>70.181515</td>\n",
       "      <td>112.102642</td>\n",
       "      <td>6.0</td>\n",
       "      <td>17.0</td>\n",
       "      <td>36.0</td>\n",
       "      <td>77.0</td>\n",
       "      <td>6846.0</td>\n",
       "    </tr>\n",
       "  </tbody>\n",
       "</table>\n",
       "</div>"
      ],
      "text/plain": [
       "                                                    count       mean  \\\n",
       "speaker in both TrueChristian and Christianity                         \n",
       "False                                           3407322.0  71.217512   \n",
       "True                                            2704690.0  70.181515   \n",
       "\n",
       "                                                       std  min   25%   50%  \\\n",
       "speaker in both TrueChristian and Christianity                                \n",
       "False                                           109.151058  6.0  18.0  37.0   \n",
       "True                                            112.102642  6.0  17.0  36.0   \n",
       "\n",
       "                                                 75%     max  \n",
       "speaker in both TrueChristian and Christianity                \n",
       "False                                           81.0  6891.0  \n",
       "True                                            77.0  6846.0  "
      ]
     },
     "execution_count": 30,
     "metadata": {},
     "output_type": "execute_result"
    }
   ],
   "source": [
    "print(\"r/Christianity\")\n",
    "dfs['Christianity'].groupby(['speaker in both TrueChristian and Christianity'])['text_len'].describe()"
   ]
  },
  {
   "cell_type": "code",
   "execution_count": 31,
   "metadata": {},
   "outputs": [
    {
     "name": "stdout",
     "output_type": "stream",
     "text": [
      "r/TrueChristian\n"
     ]
    },
    {
     "data": {
      "text/html": [
       "<div>\n",
       "<style scoped>\n",
       "    .dataframe tbody tr th:only-of-type {\n",
       "        vertical-align: middle;\n",
       "    }\n",
       "\n",
       "    .dataframe tbody tr th {\n",
       "        vertical-align: top;\n",
       "    }\n",
       "\n",
       "    .dataframe thead th {\n",
       "        text-align: right;\n",
       "    }\n",
       "</style>\n",
       "<table border=\"1\" class=\"dataframe\">\n",
       "  <thead>\n",
       "    <tr style=\"text-align: right;\">\n",
       "      <th></th>\n",
       "      <th>count</th>\n",
       "      <th>mean</th>\n",
       "      <th>std</th>\n",
       "      <th>min</th>\n",
       "      <th>25%</th>\n",
       "      <th>50%</th>\n",
       "      <th>75%</th>\n",
       "      <th>max</th>\n",
       "    </tr>\n",
       "    <tr>\n",
       "      <th>speaker in both TrueChristian and Christianity</th>\n",
       "      <th></th>\n",
       "      <th></th>\n",
       "      <th></th>\n",
       "      <th></th>\n",
       "      <th></th>\n",
       "      <th></th>\n",
       "      <th></th>\n",
       "      <th></th>\n",
       "    </tr>\n",
       "  </thead>\n",
       "  <tbody>\n",
       "    <tr>\n",
       "      <th>False</th>\n",
       "      <td>79717.0</td>\n",
       "      <td>87.839608</td>\n",
       "      <td>134.983852</td>\n",
       "      <td>6.0</td>\n",
       "      <td>20.0</td>\n",
       "      <td>45.0</td>\n",
       "      <td>101.0</td>\n",
       "      <td>4463.0</td>\n",
       "    </tr>\n",
       "    <tr>\n",
       "      <th>True</th>\n",
       "      <td>405337.0</td>\n",
       "      <td>87.611289</td>\n",
       "      <td>143.714178</td>\n",
       "      <td>6.0</td>\n",
       "      <td>20.0</td>\n",
       "      <td>44.0</td>\n",
       "      <td>95.0</td>\n",
       "      <td>6034.0</td>\n",
       "    </tr>\n",
       "  </tbody>\n",
       "</table>\n",
       "</div>"
      ],
      "text/plain": [
       "                                                   count       mean  \\\n",
       "speaker in both TrueChristian and Christianity                        \n",
       "False                                            79717.0  87.839608   \n",
       "True                                            405337.0  87.611289   \n",
       "\n",
       "                                                       std  min   25%   50%  \\\n",
       "speaker in both TrueChristian and Christianity                                \n",
       "False                                           134.983852  6.0  20.0  45.0   \n",
       "True                                            143.714178  6.0  20.0  44.0   \n",
       "\n",
       "                                                  75%     max  \n",
       "speaker in both TrueChristian and Christianity                 \n",
       "False                                           101.0  4463.0  \n",
       "True                                             95.0  6034.0  "
      ]
     },
     "execution_count": 31,
     "metadata": {},
     "output_type": "execute_result"
    }
   ],
   "source": [
    "print(\"r/TrueChristian\")\n",
    "dfs['TrueChristian'].groupby(['speaker in both TrueChristian and Christianity'])['text_len'].describe()"
   ]
  },
  {
   "cell_type": "code",
   "execution_count": 33,
   "metadata": {},
   "outputs": [
    {
     "data": {
      "text/plain": [
       "19547"
      ]
     },
     "execution_count": 33,
     "metadata": {},
     "output_type": "execute_result"
    }
   ],
   "source": [
    "dfs['TrueChristian']['speaker'].nunique()"
   ]
  },
  {
   "cell_type": "markdown",
   "metadata": {},
   "source": [
    "## Longitudinal studies"
   ]
  },
  {
   "cell_type": "code",
   "execution_count": 69,
   "metadata": {},
   "outputs": [
    {
     "data": {
      "text/plain": [
       "speaker\n",
       "----x----          1420425164\n",
       "---_-_---_-_---    1462128480\n",
       "---annon---        1406663959\n",
       "--Bag              1515440655\n",
       "--Guardian--       1522378697\n",
       "Name: timestamp, dtype: int64"
      ]
     },
     "execution_count": 69,
     "metadata": {},
     "output_type": "execute_result"
    }
   ],
   "source": [
    "df = dfs['TrueChristian'] \n",
    "first_utt_in_TC = df.groupby(['speaker'])['timestamp'].min()\n",
    "first_utt_in_TC = first_utt_in_TC.reset_index(name='first_utt_in_TC')\n",
    "first_utt_in_TC.head()"
   ]
  },
  {
   "cell_type": "markdown",
   "metadata": {},
   "source": [
    "### comments"
   ]
  },
  {
   "cell_type": "code",
   "execution_count": null,
   "metadata": {},
   "outputs": [],
   "source": [
    "common_speakers_comments = common_speakers_utt[common_speakers_utt['reply_to'].notnull()].copy()"
   ]
  },
  {
   "cell_type": "code",
   "execution_count": 197,
   "metadata": {},
   "outputs": [],
   "source": [
    "x = common_speakers_comments.groupby(['speaker', 'meta.subreddit']).size().reset_index(name='num_comments')\n",
    "x = x.pivot(index='speaker', columns='meta.subreddit', values='num_comments')\n",
    "\n",
    "# speakers with at least 10 posts in both subreddits\n",
    "active_speakers = x[(x['Christianity'] >= 10) & (x['TrueChristian'] >= 10)].index"
   ]
  },
  {
   "cell_type": "code",
   "execution_count": 199,
   "metadata": {},
   "outputs": [],
   "source": [
    "def subset_by_speakers(df, speakers):\n",
    "    return df[df['speaker'].isin(speakers)].copy()\n",
    "\n",
    "def subset_by_subreddit(df, subreddit):\n",
    "    return df[df['meta.subreddit'] == subreddit].copy()"
   ]
  },
  {
   "cell_type": "code",
   "execution_count": 198,
   "metadata": {},
   "outputs": [],
   "source": [
    "active_common_speakers_comments = subset_by_speakers(common_speakers_comments, active_speakers)"
   ]
  },
  {
   "cell_type": "code",
   "execution_count": 200,
   "metadata": {},
   "outputs": [
    {
     "name": "stdout",
     "output_type": "stream",
     "text": [
      "(1808739, 22)\n"
     ]
    }
   ],
   "source": [
    "common_speakers_comments_in_Christianity = subset_by_subreddit(active_common_speakers_comments, 'Christianity')\n",
    "common_speakers_comments_in_Christianity = common_speakers_comments_in_Christianity.reset_index()\n",
    "print(common_speakers_comments_in_Christianity.shape)"
   ]
  },
  {
   "cell_type": "code",
   "execution_count": 201,
   "metadata": {},
   "outputs": [
    {
     "name": "stdout",
     "output_type": "stream",
     "text": [
      "(1808739, 23)\n",
      "3089\n"
     ]
    }
   ],
   "source": [
    "common_speakers_comments_in_Christianity = common_speakers_comments_in_Christianity.merge(first_utt_in_TC, on='speaker')\n",
    "print(common_speakers_comments_in_Christianity.shape)\n",
    "\n",
    "print(common_speakers_comments_in_Christianity['speaker'].nunique())"
   ]
  },
  {
   "cell_type": "code",
   "execution_count": 202,
   "metadata": {},
   "outputs": [],
   "source": [
    "common_speakers_comments_in_Christianity['before_TC'] = common_speakers_comments_in_Christianity.apply(\n",
    "    lambda row: 1 if row['timestamp'] < row['first_utt_in_TC'] else 0, axis=1)\n",
    "common_speakers_comments_in_Christianity['after_TC'] = common_speakers_comments_in_Christianity.apply(\n",
    "    lambda row: 1 if row['timestamp'] >= row['first_utt_in_TC'] else 0, axis=1)"
   ]
  },
  {
   "cell_type": "code",
   "execution_count": 203,
   "metadata": {},
   "outputs": [
    {
     "data": {
      "text/html": [
       "<div>\n",
       "<style scoped>\n",
       "    .dataframe tbody tr th:only-of-type {\n",
       "        vertical-align: middle;\n",
       "    }\n",
       "\n",
       "    .dataframe tbody tr th {\n",
       "        vertical-align: top;\n",
       "    }\n",
       "\n",
       "    .dataframe thead th {\n",
       "        text-align: right;\n",
       "    }\n",
       "</style>\n",
       "<table border=\"1\" class=\"dataframe\">\n",
       "  <thead>\n",
       "    <tr style=\"text-align: right;\">\n",
       "      <th></th>\n",
       "      <th>before_TC</th>\n",
       "      <th>after_TC</th>\n",
       "      <th>total_comments</th>\n",
       "    </tr>\n",
       "    <tr>\n",
       "      <th>speaker</th>\n",
       "      <th></th>\n",
       "      <th></th>\n",
       "      <th></th>\n",
       "    </tr>\n",
       "  </thead>\n",
       "  <tbody>\n",
       "    <tr>\n",
       "      <th>-AveMaria-</th>\n",
       "      <td>0</td>\n",
       "      <td>39</td>\n",
       "      <td>39</td>\n",
       "    </tr>\n",
       "    <tr>\n",
       "      <th>-BigSexy-</th>\n",
       "      <td>172</td>\n",
       "      <td>282</td>\n",
       "      <td>454</td>\n",
       "    </tr>\n",
       "    <tr>\n",
       "      <th>-Firelord-Azula-</th>\n",
       "      <td>0</td>\n",
       "      <td>192</td>\n",
       "      <td>192</td>\n",
       "    </tr>\n",
       "    <tr>\n",
       "      <th>-GodLovesYou-</th>\n",
       "      <td>14</td>\n",
       "      <td>72</td>\n",
       "      <td>86</td>\n",
       "    </tr>\n",
       "    <tr>\n",
       "      <th>-Graff-</th>\n",
       "      <td>15</td>\n",
       "      <td>220</td>\n",
       "      <td>235</td>\n",
       "    </tr>\n",
       "    <tr>\n",
       "      <th>...</th>\n",
       "      <td>...</td>\n",
       "      <td>...</td>\n",
       "      <td>...</td>\n",
       "    </tr>\n",
       "    <tr>\n",
       "      <th>zimm3r16</th>\n",
       "      <td>6</td>\n",
       "      <td>146</td>\n",
       "      <td>152</td>\n",
       "    </tr>\n",
       "    <tr>\n",
       "      <th>zip99</th>\n",
       "      <td>21</td>\n",
       "      <td>1</td>\n",
       "      <td>22</td>\n",
       "    </tr>\n",
       "    <tr>\n",
       "      <th>zkkk</th>\n",
       "      <td>22</td>\n",
       "      <td>33</td>\n",
       "      <td>55</td>\n",
       "    </tr>\n",
       "    <tr>\n",
       "      <th>zombiegamer723</th>\n",
       "      <td>9</td>\n",
       "      <td>11</td>\n",
       "      <td>20</td>\n",
       "    </tr>\n",
       "    <tr>\n",
       "      <th>zsweeney1</th>\n",
       "      <td>27</td>\n",
       "      <td>110</td>\n",
       "      <td>137</td>\n",
       "    </tr>\n",
       "  </tbody>\n",
       "</table>\n",
       "<p>3089 rows × 3 columns</p>\n",
       "</div>"
      ],
      "text/plain": [
       "                  before_TC  after_TC  total_comments\n",
       "speaker                                              \n",
       "-AveMaria-                0        39              39\n",
       "-BigSexy-               172       282             454\n",
       "-Firelord-Azula-          0       192             192\n",
       "-GodLovesYou-            14        72              86\n",
       "-Graff-                  15       220             235\n",
       "...                     ...       ...             ...\n",
       "zimm3r16                  6       146             152\n",
       "zip99                    21         1              22\n",
       "zkkk                     22        33              55\n",
       "zombiegamer723            9        11              20\n",
       "zsweeney1                27       110             137\n",
       "\n",
       "[3089 rows x 3 columns]"
      ]
     },
     "execution_count": 203,
     "metadata": {},
     "output_type": "execute_result"
    }
   ],
   "source": [
    "the_group = common_speakers_comments_in_Christianity.groupby(['speaker'])\n",
    "temp_df = the_group.agg({\"before_TC\": sum, \"after_TC\": sum})\n",
    "temp_df['total_comments'] = the_group['id'].count()\n",
    "temp_df"
   ]
  },
  {
   "cell_type": "code",
   "execution_count": 204,
   "metadata": {},
   "outputs": [
    {
     "name": "stdout",
     "output_type": "stream",
     "text": [
      "10\n",
      "  1596\n",
      "20\n",
      "  1191\n",
      "30\n",
      "  974\n",
      "40\n",
      "  807\n",
      "50\n",
      "  689\n",
      "60\n",
      "  598\n",
      "70\n",
      "  555\n",
      "80\n",
      "  499\n",
      "90\n",
      "  468\n",
      "100\n",
      "  442\n"
     ]
    }
   ],
   "source": [
    "for K in [10, 20, 30, 40, 50, 60, 70, 80, 90, 100]:\n",
    "    print(K)\n",
    "    print(\" \", len(temp_df[(temp_df['before_TC'] >= K) & (temp_df['after_TC'] >= K)]))"
   ]
  },
  {
   "cell_type": "code",
   "execution_count": 233,
   "metadata": {},
   "outputs": [],
   "source": [
    "## text length before and after joining TC\n",
    "K = 80\n",
    "qualified_speakers = list(temp_df[(temp_df['before_TC'] >= K) & (temp_df['after_TC'] >= K)].index)\n",
    "selected = common_speakers_comments_in_Christianity[common_speakers_comments_in_Christianity['speaker'].isin(qualified_speakers)]"
   ]
  },
  {
   "cell_type": "code",
   "execution_count": 234,
   "metadata": {},
   "outputs": [
    {
     "name": "stdout",
     "output_type": "stream",
     "text": [
      "499\n"
     ]
    }
   ],
   "source": [
    "print(selected['speaker'].nunique())"
   ]
  },
  {
   "cell_type": "code",
   "execution_count": 235,
   "metadata": {},
   "outputs": [],
   "source": [
    "after = selected[selected['after_TC'] == 1].copy()\n",
    "gr = after.sort_values(['speaker', 'timestamp']).groupby([\"speaker\"])\n",
    "after['order'] = gr.cumcount() + 1"
   ]
  },
  {
   "cell_type": "code",
   "execution_count": 236,
   "metadata": {},
   "outputs": [],
   "source": [
    "before = selected[selected['before_TC'] == 1].copy()\n",
    "gr = before.sort_values(['speaker', 'timestamp'], ascending=False).groupby(['speaker'])\n",
    "before['order'] = -1 * (gr.cumcount()+1)"
   ]
  },
  {
   "cell_type": "code",
   "execution_count": 237,
   "metadata": {},
   "outputs": [],
   "source": [
    "## spot check \n",
    "# speaker = 'wonkifier'\n",
    "# before[before['speaker'] == speaker][['id', 'timestamp', 'order']]\n",
    "# after[after['speaker'] == speaker][['id', 'timestamp', 'order']]"
   ]
  },
  {
   "cell_type": "code",
   "execution_count": 238,
   "metadata": {},
   "outputs": [],
   "source": [
    "dff = pd.concat([before, after])"
   ]
  },
  {
   "cell_type": "code",
   "execution_count": 239,
   "metadata": {},
   "outputs": [],
   "source": [
    "import scipy.stats as st\n",
    "def conf_interval(data):\n",
    "    interval = st.norm.interval(confidence=0.95, loc=np.mean(data), scale=st.sem(data))\n",
    "    return (interval[-1] - interval[0])/2"
   ]
  },
  {
   "cell_type": "code",
   "execution_count": 240,
   "metadata": {
    "scrolled": true
   },
   "outputs": [],
   "source": [
    "dff = dff[dff['order'].abs() <= K]\n",
    "g = dff.groupby(['order']).agg({\"text_len\": [\"mean\", conf_interval]})"
   ]
  },
  {
   "cell_type": "code",
   "execution_count": 241,
   "metadata": {},
   "outputs": [
    {
     "data": {
      "text/plain": [
       "<AxesSubplot: xlabel='order'>"
      ]
     },
     "execution_count": 241,
     "metadata": {},
     "output_type": "execute_result"
    },
    {
     "data": {
      "image/png": "[encoded data removed]",
      "text/plain": [
       "<Figure size 640x480 with 1 Axes>"
      ]
     },
     "metadata": {},
     "output_type": "display_data"
    },
    {
     "data": {
      "image/png": "[encoded data removed]",
      "text/plain": [
       "<Figure size 640x480 with 1 Axes>"
      ]
     },
     "metadata": {},
     "output_type": "display_data"
    }
   ],
   "source": [
    "g.columns = g.columns.map(lambda x: '_'.join([str(i) for i in x]))\n",
    "g = g.reset_index()\n",
    "g.plot('order', 'text_len_mean', \n",
    "#        yerr='text_len_std',\n",
    "               )\n",
    "g.plot('order', 'text_len_mean', \n",
    "       yerr='text_len_conf_interval',\n",
    "               )"
   ]
  },
  {
   "cell_type": "markdown",
   "metadata": {},
   "source": [
    "### posts"
   ]
  },
  {
   "cell_type": "code",
   "execution_count": 171,
   "metadata": {},
   "outputs": [
    {
     "name": "stdout",
     "output_type": "stream",
     "text": [
      "(29626, 22)\n"
     ]
    }
   ],
   "source": [
    "common_speakers_posts = common_speakers_utt[common_speakers_utt['reply_to'].isnull()].copy()\n",
    "\n",
    "common_speakers_posts_in_Christianity = common_speakers_posts[common_speakers_posts['meta.subreddit'] == 'Christianity'].copy()\n",
    "common_speakers_posts_in_Christianity = common_speakers_posts_in_Christianity.reset_index()\n",
    "print(common_speakers_posts_in_Christianity.shape)"
   ]
  },
  {
   "cell_type": "code",
   "execution_count": 172,
   "metadata": {},
   "outputs": [
    {
     "name": "stdout",
     "output_type": "stream",
     "text": [
      "(29626, 23)\n",
      "5017\n"
     ]
    }
   ],
   "source": [
    "common_speakers_posts_in_Christianity = common_speakers_posts_in_Christianity.merge(first_utt_in_TC, on='speaker')\n",
    "print(common_speakers_posts_in_Christianity.shape)\n",
    "print(common_speakers_posts_in_Christianity['speaker'].nunique())"
   ]
  },
  {
   "cell_type": "code",
   "execution_count": 174,
   "metadata": {},
   "outputs": [],
   "source": [
    "common_speakers_posts_in_Christianity['before_TC'] = common_speakers_posts_in_Christianity.apply(\n",
    "    lambda row: 1 if row['timestamp'] < row['first_utt_in_TC'] else 0, axis=1)\n",
    "common_speakers_posts_in_Christianity['after_TC'] = common_speakers_posts_in_Christianity.apply(\n",
    "    lambda row: 1 if row['timestamp'] >= row['first_utt_in_TC'] else 0, axis=1)"
   ]
  },
  {
   "cell_type": "code",
   "execution_count": 176,
   "metadata": {},
   "outputs": [
    {
     "data": {
      "text/html": [
       "<div>\n",
       "<style scoped>\n",
       "    .dataframe tbody tr th:only-of-type {\n",
       "        vertical-align: middle;\n",
       "    }\n",
       "\n",
       "    .dataframe tbody tr th {\n",
       "        vertical-align: top;\n",
       "    }\n",
       "\n",
       "    .dataframe thead th {\n",
       "        text-align: right;\n",
       "    }\n",
       "</style>\n",
       "<table border=\"1\" class=\"dataframe\">\n",
       "  <thead>\n",
       "    <tr style=\"text-align: right;\">\n",
       "      <th></th>\n",
       "      <th>before_TC</th>\n",
       "      <th>after_TC</th>\n",
       "      <th>total_posts</th>\n",
       "    </tr>\n",
       "    <tr>\n",
       "      <th>speaker</th>\n",
       "      <th></th>\n",
       "      <th></th>\n",
       "      <th></th>\n",
       "    </tr>\n",
       "  </thead>\n",
       "  <tbody>\n",
       "    <tr>\n",
       "      <th>---annon---</th>\n",
       "      <td>1</td>\n",
       "      <td>2</td>\n",
       "      <td>3</td>\n",
       "    </tr>\n",
       "    <tr>\n",
       "      <th>-4-8-15-16-23-42-</th>\n",
       "      <td>1</td>\n",
       "      <td>0</td>\n",
       "      <td>1</td>\n",
       "    </tr>\n",
       "    <tr>\n",
       "      <th>-AveMaria-</th>\n",
       "      <td>0</td>\n",
       "      <td>1</td>\n",
       "      <td>1</td>\n",
       "    </tr>\n",
       "    <tr>\n",
       "      <th>-Baljeet-Tjinder-</th>\n",
       "      <td>2</td>\n",
       "      <td>5</td>\n",
       "      <td>7</td>\n",
       "    </tr>\n",
       "    <tr>\n",
       "      <th>-BigSexy-</th>\n",
       "      <td>7</td>\n",
       "      <td>18</td>\n",
       "      <td>25</td>\n",
       "    </tr>\n",
       "    <tr>\n",
       "      <th>...</th>\n",
       "      <td>...</td>\n",
       "      <td>...</td>\n",
       "      <td>...</td>\n",
       "    </tr>\n",
       "    <tr>\n",
       "      <th>zombiegamer723</th>\n",
       "      <td>1</td>\n",
       "      <td>1</td>\n",
       "      <td>2</td>\n",
       "    </tr>\n",
       "    <tr>\n",
       "      <th>zombiemaster22</th>\n",
       "      <td>0</td>\n",
       "      <td>1</td>\n",
       "      <td>1</td>\n",
       "    </tr>\n",
       "    <tr>\n",
       "      <th>zphd3</th>\n",
       "      <td>1</td>\n",
       "      <td>0</td>\n",
       "      <td>1</td>\n",
       "    </tr>\n",
       "    <tr>\n",
       "      <th>zsweeney1</th>\n",
       "      <td>7</td>\n",
       "      <td>7</td>\n",
       "      <td>14</td>\n",
       "    </tr>\n",
       "    <tr>\n",
       "      <th>ztatador</th>\n",
       "      <td>3</td>\n",
       "      <td>2</td>\n",
       "      <td>5</td>\n",
       "    </tr>\n",
       "  </tbody>\n",
       "</table>\n",
       "<p>5017 rows × 3 columns</p>\n",
       "</div>"
      ],
      "text/plain": [
       "                   before_TC  after_TC  total_posts\n",
       "speaker                                            \n",
       "---annon---                1         2            3\n",
       "-4-8-15-16-23-42-          1         0            1\n",
       "-AveMaria-                 0         1            1\n",
       "-Baljeet-Tjinder-          2         5            7\n",
       "-BigSexy-                  7        18           25\n",
       "...                      ...       ...          ...\n",
       "zombiegamer723             1         1            2\n",
       "zombiemaster22             0         1            1\n",
       "zphd3                      1         0            1\n",
       "zsweeney1                  7         7           14\n",
       "ztatador                   3         2            5\n",
       "\n",
       "[5017 rows x 3 columns]"
      ]
     },
     "execution_count": 176,
     "metadata": {},
     "output_type": "execute_result"
    }
   ],
   "source": [
    "the_group = common_speakers_posts_in_Christianity.groupby(['speaker'])\n",
    "temp_df = the_group.agg({\"before_TC\": sum, \"after_TC\": sum})\n",
    "temp_df['total_posts'] = the_group['id'].count()\n",
    "temp_df"
   ]
  },
  {
   "cell_type": "code",
   "execution_count": 177,
   "metadata": {},
   "outputs": [
    {
     "name": "stdout",
     "output_type": "stream",
     "text": [
      "10\n",
      "  81\n",
      "20\n",
      "  25\n",
      "30\n",
      "  12\n",
      "40\n",
      "  8\n",
      "50\n",
      "  6\n",
      "60\n",
      "  5\n",
      "70\n",
      "  3\n",
      "80\n",
      "  3\n",
      "90\n",
      "  1\n",
      "100\n",
      "  1\n"
     ]
    }
   ],
   "source": [
    "for K in [10, 20, 30, 40, 50, 60, 70, 80, 90, 100]:\n",
    "    print(K)\n",
    "    print(\" \", len(temp_df[(temp_df['before_TC'] >= K) & (temp_df['after_TC'] >= K)]))"
   ]
  }
 ],
 "metadata": {
  "kernelspec": {
   "display_name": "Python 3 (ipykernel)",
   "language": "python",
   "name": "python3"
  },
  "language_info": {
   "codemirror_mode": {
    "name": "ipython",
    "version": 3
   },
   "file_extension": ".py",
   "mimetype": "text/x-python",
   "name": "python",
   "nbconvert_exporter": "python",
   "pygments_lexer": "ipython3",
   "version": "3.10.8"
  }
 },
 "nbformat": 4,
 "nbformat_minor": 2
}
