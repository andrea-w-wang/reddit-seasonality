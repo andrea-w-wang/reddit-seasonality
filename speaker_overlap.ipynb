{
 "cells": [
  {
   "cell_type": "code",
   "execution_count": 1,
   "metadata": {},
   "outputs": [],
   "source": [
    "from convokit import Corpus, download, HyperConvo\n",
    "import pandas as pd\n",
    "import numpy as np\n",
    "from collections import Counter\n",
    "from scipy import stats\n",
    "import json\n",
    "from datetime import datetime\n",
    "import pickle as pk\n"
   ]
  },
  {
   "cell_type": "code",
   "execution_count": 3,
   "metadata": {},
   "outputs": [],
   "source": [
    "dfs = dict()\n",
    "\n",
    "subreddit = \"Christianity\"\n",
    "corpus = Corpus.reconnect_to_db(f'subreddit-{subreddit}')\n",
    "dfs[subreddit] = df = corpus.get_utterances_dataframe(selector = lambda utt: len(utt.text.split()) > 5)\n",
    "\n",
    "subreddit = \"TrueChristian\"\n",
    "corpus = Corpus.reconnect_to_db(f'subreddit-{subreddit}')\n",
    "dfs[subreddit]  = df = corpus.get_utterances_dataframe(selector = lambda utt: len(utt.text.split()) > 5)"
   ]
  },
  {
   "cell_type": "code",
   "execution_count": 4,
   "metadata": {},
   "outputs": [],
   "source": [
    "speakers = dict()\n",
    "for subreddit in [\"Christianity\", \"TrueChristian\"]:\n",
    "    speakers[subreddit] = dfs[subreddit]['speaker'].unique()"
   ]
  },
  {
   "cell_type": "code",
   "execution_count": 7,
   "metadata": {},
   "outputs": [],
   "source": [
    "common_speakers = set(speakers[\"Christianity\"]).intersection(speakers[\"TrueChristian\"])"
   ]
  },
  {
   "cell_type": "code",
   "execution_count": 13,
   "metadata": {},
   "outputs": [],
   "source": [
    "common_speakers.remove(\"[deleted]\")\n"
   ]
  },
  {
   "cell_type": "code",
   "execution_count": 34,
   "metadata": {},
   "outputs": [
    {
     "name": "stdout",
     "output_type": "stream",
     "text": [
      "12068\n"
     ]
    }
   ],
   "source": [
    "print(len(common_speakers))\n"
   ]
  },
  {
   "cell_type": "code",
   "execution_count": 16,
   "metadata": {},
   "outputs": [
    {
     "name": "stdout",
     "output_type": "stream",
     "text": [
      "TrueChristian\n",
      "count    12068.000000\n",
      "mean        33.587753\n",
      "std        166.506911\n",
      "min          1.000000\n",
      "25%          1.000000\n",
      "50%          4.000000\n",
      "75%         16.000000\n",
      "max       5730.000000\n",
      "dtype: float64\n",
      "Christianity\n",
      "count    12068.000000\n",
      "mean       224.120815\n",
      "std       1031.910221\n",
      "min          1.000000\n",
      "25%          4.000000\n",
      "50%         17.000000\n",
      "75%         78.000000\n",
      "max      27546.000000\n",
      "dtype: float64\n"
     ]
    }
   ],
   "source": [
    "for subreddit in [\"TrueChristian\", \"Christianity\"]:\n",
    "    df = dfs[subreddit]\n",
    "    print(subreddit)\n",
    "    print(df[df['speaker'].isin(common_speakers)].groupby(['speaker']).size().describe())"
   ]
  },
  {
   "cell_type": "code",
   "execution_count": 18,
   "metadata": {},
   "outputs": [],
   "source": [
    "common_speakers_utt = pd.DataFrame()\n",
    "for subreddit in [\"TrueChristian\", \"Christianity\"]:\n",
    "    df = dfs[subreddit]\n",
    "    common_speakers_utt = pd.concat([common_speakers_utt, df[df['speaker'].isin(common_speakers)]])"
   ]
  },
  {
   "cell_type": "code",
   "execution_count": 20,
   "metadata": {},
   "outputs": [],
   "source": [
    "common_speakers_utt['text_len'] = common_speakers_utt['text'].apply(lambda t: len(t.split()))"
   ]
  },
  {
   "cell_type": "code",
   "execution_count": 21,
   "metadata": {},
   "outputs": [
    {
     "data": {
      "text/html": [
       "<div>\n",
       "<style scoped>\n",
       "    .dataframe tbody tr th:only-of-type {\n",
       "        vertical-align: middle;\n",
       "    }\n",
       "\n",
       "    .dataframe tbody tr th {\n",
       "        vertical-align: top;\n",
       "    }\n",
       "\n",
       "    .dataframe thead th {\n",
       "        text-align: right;\n",
       "    }\n",
       "</style>\n",
       "<table border=\"1\" class=\"dataframe\">\n",
       "  <thead>\n",
       "    <tr style=\"text-align: right;\">\n",
       "      <th></th>\n",
       "      <th>count</th>\n",
       "      <th>mean</th>\n",
       "      <th>std</th>\n",
       "      <th>min</th>\n",
       "      <th>25%</th>\n",
       "      <th>50%</th>\n",
       "      <th>75%</th>\n",
       "      <th>max</th>\n",
       "    </tr>\n",
       "    <tr>\n",
       "      <th>meta.subreddit</th>\n",
       "      <th></th>\n",
       "      <th></th>\n",
       "      <th></th>\n",
       "      <th></th>\n",
       "      <th></th>\n",
       "      <th></th>\n",
       "      <th></th>\n",
       "      <th></th>\n",
       "    </tr>\n",
       "  </thead>\n",
       "  <tbody>\n",
       "    <tr>\n",
       "      <th>Christianity</th>\n",
       "      <td>2704690.0</td>\n",
       "      <td>70.181515</td>\n",
       "      <td>112.102642</td>\n",
       "      <td>6.0</td>\n",
       "      <td>17.0</td>\n",
       "      <td>36.0</td>\n",
       "      <td>77.0</td>\n",
       "      <td>6846.0</td>\n",
       "    </tr>\n",
       "    <tr>\n",
       "      <th>TrueChristian</th>\n",
       "      <td>405337.0</td>\n",
       "      <td>87.611289</td>\n",
       "      <td>143.714178</td>\n",
       "      <td>6.0</td>\n",
       "      <td>20.0</td>\n",
       "      <td>44.0</td>\n",
       "      <td>95.0</td>\n",
       "      <td>6034.0</td>\n",
       "    </tr>\n",
       "  </tbody>\n",
       "</table>\n",
       "</div>"
      ],
      "text/plain": [
       "                    count       mean         std  min   25%   50%   75%  \\\n",
       "meta.subreddit                                                            \n",
       "Christianity    2704690.0  70.181515  112.102642  6.0  17.0  36.0  77.0   \n",
       "TrueChristian    405337.0  87.611289  143.714178  6.0  20.0  44.0  95.0   \n",
       "\n",
       "                   max  \n",
       "meta.subreddit          \n",
       "Christianity    6846.0  \n",
       "TrueChristian   6034.0  "
      ]
     },
     "execution_count": 21,
     "metadata": {},
     "output_type": "execute_result"
    }
   ],
   "source": [
    "common_speakers_utt.groupby(['meta.subreddit'])['text_len'].describe()"
   ]
  },
  {
   "cell_type": "code",
   "execution_count": 23,
   "metadata": {},
   "outputs": [],
   "source": [
    "for subreddit in [\"TrueChristian\", \"Christianity\"]:\n",
    "    df = dfs[subreddit]\n",
    "    df['text_len'] = df['text'].apply(lambda t: len(t.split()))\n",
    "    df['speaker in both TrueChristian and Christianity'] = df['speaker'].apply(lambda s: s in common_speakers)"
   ]
  },
  {
   "cell_type": "code",
   "execution_count": 26,
   "metadata": {},
   "outputs": [],
   "source": [
    "pd.set_option('display.max_rows', 1000)"
   ]
  },
  {
   "cell_type": "code",
   "execution_count": 30,
   "metadata": {},
   "outputs": [
    {
     "name": "stdout",
     "output_type": "stream",
     "text": [
      "r/Christianity\n"
     ]
    },
    {
     "data": {
      "text/html": [
       "<div>\n",
       "<style scoped>\n",
       "    .dataframe tbody tr th:only-of-type {\n",
       "        vertical-align: middle;\n",
       "    }\n",
       "\n",
       "    .dataframe tbody tr th {\n",
       "        vertical-align: top;\n",
       "    }\n",
       "\n",
       "    .dataframe thead th {\n",
       "        text-align: right;\n",
       "    }\n",
       "</style>\n",
       "<table border=\"1\" class=\"dataframe\">\n",
       "  <thead>\n",
       "    <tr style=\"text-align: right;\">\n",
       "      <th></th>\n",
       "      <th>count</th>\n",
       "      <th>mean</th>\n",
       "      <th>std</th>\n",
       "      <th>min</th>\n",
       "      <th>25%</th>\n",
       "      <th>50%</th>\n",
       "      <th>75%</th>\n",
       "      <th>max</th>\n",
       "    </tr>\n",
       "    <tr>\n",
       "      <th>speaker in both TrueChristian and Christianity</th>\n",
       "      <th></th>\n",
       "      <th></th>\n",
       "      <th></th>\n",
       "      <th></th>\n",
       "      <th></th>\n",
       "      <th></th>\n",
       "      <th></th>\n",
       "      <th></th>\n",
       "    </tr>\n",
       "  </thead>\n",
       "  <tbody>\n",
       "    <tr>\n",
       "      <th>False</th>\n",
       "      <td>3407322.0</td>\n",
       "      <td>71.217512</td>\n",
       "      <td>109.151058</td>\n",
       "      <td>6.0</td>\n",
       "      <td>18.0</td>\n",
       "      <td>37.0</td>\n",
       "      <td>81.0</td>\n",
       "      <td>6891.0</td>\n",
       "    </tr>\n",
       "    <tr>\n",
       "      <th>True</th>\n",
       "      <td>2704690.0</td>\n",
       "      <td>70.181515</td>\n",
       "      <td>112.102642</td>\n",
       "      <td>6.0</td>\n",
       "      <td>17.0</td>\n",
       "      <td>36.0</td>\n",
       "      <td>77.0</td>\n",
       "      <td>6846.0</td>\n",
       "    </tr>\n",
       "  </tbody>\n",
       "</table>\n",
       "</div>"
      ],
      "text/plain": [
       "                                                    count       mean  \\\n",
       "speaker in both TrueChristian and Christianity                         \n",
       "False                                           3407322.0  71.217512   \n",
       "True                                            2704690.0  70.181515   \n",
       "\n",
       "                                                       std  min   25%   50%  \\\n",
       "speaker in both TrueChristian and Christianity                                \n",
       "False                                           109.151058  6.0  18.0  37.0   \n",
       "True                                            112.102642  6.0  17.0  36.0   \n",
       "\n",
       "                                                 75%     max  \n",
       "speaker in both TrueChristian and Christianity                \n",
       "False                                           81.0  6891.0  \n",
       "True                                            77.0  6846.0  "
      ]
     },
     "execution_count": 30,
     "metadata": {},
     "output_type": "execute_result"
    }
   ],
   "source": [
    "print(\"r/Christianity\")\n",
    "dfs['Christianity'].groupby(['speaker in both TrueChristian and Christianity'])['text_len'].describe()"
   ]
  },
  {
   "cell_type": "code",
   "execution_count": 31,
   "metadata": {},
   "outputs": [
    {
     "name": "stdout",
     "output_type": "stream",
     "text": [
      "r/TrueChristian\n"
     ]
    },
    {
     "data": {
      "text/html": [
       "<div>\n",
       "<style scoped>\n",
       "    .dataframe tbody tr th:only-of-type {\n",
       "        vertical-align: middle;\n",
       "    }\n",
       "\n",
       "    .dataframe tbody tr th {\n",
       "        vertical-align: top;\n",
       "    }\n",
       "\n",
       "    .dataframe thead th {\n",
       "        text-align: right;\n",
       "    }\n",
       "</style>\n",
       "<table border=\"1\" class=\"dataframe\">\n",
       "  <thead>\n",
       "    <tr style=\"text-align: right;\">\n",
       "      <th></th>\n",
       "      <th>count</th>\n",
       "      <th>mean</th>\n",
       "      <th>std</th>\n",
       "      <th>min</th>\n",
       "      <th>25%</th>\n",
       "      <th>50%</th>\n",
       "      <th>75%</th>\n",
       "      <th>max</th>\n",
       "    </tr>\n",
       "    <tr>\n",
       "      <th>speaker in both TrueChristian and Christianity</th>\n",
       "      <th></th>\n",
       "      <th></th>\n",
       "      <th></th>\n",
       "      <th></th>\n",
       "      <th></th>\n",
       "      <th></th>\n",
       "      <th></th>\n",
       "      <th></th>\n",
       "    </tr>\n",
       "  </thead>\n",
       "  <tbody>\n",
       "    <tr>\n",
       "      <th>False</th>\n",
       "      <td>79717.0</td>\n",
       "      <td>87.839608</td>\n",
       "      <td>134.983852</td>\n",
       "      <td>6.0</td>\n",
       "      <td>20.0</td>\n",
       "      <td>45.0</td>\n",
       "      <td>101.0</td>\n",
       "      <td>4463.0</td>\n",
       "    </tr>\n",
       "    <tr>\n",
       "      <th>True</th>\n",
       "      <td>405337.0</td>\n",
       "      <td>87.611289</td>\n",
       "      <td>143.714178</td>\n",
       "      <td>6.0</td>\n",
       "      <td>20.0</td>\n",
       "      <td>44.0</td>\n",
       "      <td>95.0</td>\n",
       "      <td>6034.0</td>\n",
       "    </tr>\n",
       "  </tbody>\n",
       "</table>\n",
       "</div>"
      ],
      "text/plain": [
       "                                                   count       mean  \\\n",
       "speaker in both TrueChristian and Christianity                        \n",
       "False                                            79717.0  87.839608   \n",
       "True                                            405337.0  87.611289   \n",
       "\n",
       "                                                       std  min   25%   50%  \\\n",
       "speaker in both TrueChristian and Christianity                                \n",
       "False                                           134.983852  6.0  20.0  45.0   \n",
       "True                                            143.714178  6.0  20.0  44.0   \n",
       "\n",
       "                                                  75%     max  \n",
       "speaker in both TrueChristian and Christianity                 \n",
       "False                                           101.0  4463.0  \n",
       "True                                             95.0  6034.0  "
      ]
     },
     "execution_count": 31,
     "metadata": {},
     "output_type": "execute_result"
    }
   ],
   "source": [
    "print(\"r/TrueChristian\")\n",
    "dfs['TrueChristian'].groupby(['speaker in both TrueChristian and Christianity'])['text_len'].describe()"
   ]
  },
  {
   "cell_type": "code",
   "execution_count": 33,
   "metadata": {},
   "outputs": [
    {
     "data": {
      "text/plain": [
       "19547"
      ]
     },
     "execution_count": 33,
     "metadata": {},
     "output_type": "execute_result"
    }
   ],
   "source": [
    "dfs['TrueChristian']['speaker'].nunique()"
   ]
  },
  {
   "cell_type": "code",
   "execution_count": 38,
   "metadata": {},
   "outputs": [
    {
     "name": "stderr",
     "output_type": "stream",
     "text": [
      "/usr/local/lib/python3.10/site-packages/numpy_ml/rl_models/rl_utils.py:25: DependencyWarning: Agents in `numpy_ml.rl_models` use the OpenAI gym for training. To install the gym environments, run `pip install gym`. For more information, see https://github.com/openai/gym.\n",
      "  warnings.warn(fstr, DependencyWarning)\n"
     ]
    }
   ],
   "source": [
    "import collections.abc\n",
    "collections.Hashable = collections.abc.Hashable\n",
    "from numpy_ml.preprocessing.nlp import tokenize_words, ngrams, strip_punctuation\n",
    "common_speakers_utt['tokens'] = common_speakers_utt['text'].apply(lambda t: tokenize_words(strip_punctuation(t), filter_stopwords=False))"
   ]
  },
  {
   "cell_type": "code",
   "execution_count": 39,
   "metadata": {},
   "outputs": [],
   "source": [
    "tokens = set([item for l in common_speakers_utt['tokens'] for item in l])"
   ]
  },
  {
   "cell_type": "code",
   "execution_count": 40,
   "metadata": {},
   "outputs": [
    {
     "data": {
      "text/plain": [
       "926401"
      ]
     },
     "execution_count": 40,
     "metadata": {},
     "output_type": "execute_result"
    }
   ],
   "source": [
    "len(tokens)"
   ]
  },
  {
   "cell_type": "code",
   "execution_count": 41,
   "metadata": {},
   "outputs": [
    {
     "data": {
      "text/plain": [
       "id\n",
       "1dhq02     False\n",
       "1dgp1n     False\n",
       "1dg7gp     False\n",
       "1dksc4     False\n",
       "1djqmd     False\n",
       "           ...  \n",
       "e8tjyac    False\n",
       "e8tk2dh    False\n",
       "e8tk2wn    False\n",
       "e8tke19    False\n",
       "e8tkhxv    False\n",
       "Name: tokens, Length: 3110027, dtype: bool"
      ]
     },
     "execution_count": 41,
     "metadata": {},
     "output_type": "execute_result"
    }
   ],
   "source": [
    "common_speakers_utt['tokens'].apply(lambda t: 'I' in t)"
   ]
  },
  {
   "cell_type": "code",
   "execution_count": null,
   "metadata": {},
   "outputs": [],
   "source": [
    "for tok in tokens:\n",
    "    "
   ]
  }
 ],
 "metadata": {
  "kernelspec": {
   "display_name": "Python 3 (ipykernel)",
   "language": "python",
   "name": "python3"
  },
  "language_info": {
   "codemirror_mode": {
    "name": "ipython",
    "version": 3
   },
   "file_extension": ".py",
   "mimetype": "text/x-python",
   "name": "python",
   "nbconvert_exporter": "python",
   "pygments_lexer": "ipython3",
   "version": "3.10.8"
  }
 },
 "nbformat": 4,
 "nbformat_minor": 2
}
